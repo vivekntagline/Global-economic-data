{
 "cells": [
  {
   "cell_type": "code",
   "execution_count": 2,
   "metadata": {},
   "outputs": [],
   "source": [
    "import pandas as pd"
   ]
  },
  {
   "cell_type": "code",
   "execution_count": 3,
   "metadata": {},
   "outputs": [],
   "source": [
    "consumer_price = pd.read_csv(\"data/consumer-price.csv\")\n",
    "govt_spending = pd.read_csv(\"data/govt-spending.csv\")\n",
    "expense_gdp = pd.read_csv(\"data/expense-gdp.csv\")\n",
    "gdp = pd.read_csv(\"data/gdp.csv\")"
   ]
  },
  {
   "cell_type": "code",
   "execution_count": 4,
   "metadata": {},
   "outputs": [
    {
     "name": "stdout",
     "output_type": "stream",
     "text": [
      "<class 'pandas.core.frame.DataFrame'>\n",
      "RangeIndex: 8904 entries, 0 to 8903\n",
      "Data columns (total 4 columns):\n",
      " #   Column                Non-Null Count  Dtype  \n",
      "---  ------                --------------  -----  \n",
      " 0   Entity                8904 non-null   object \n",
      " 1   Code                  8904 non-null   object \n",
      " 2   Year                  8904 non-null   int64  \n",
      " 3   Consumer_price_index  8904 non-null   float64\n",
      "dtypes: float64(1), int64(1), object(2)\n",
      "memory usage: 278.4+ KB\n",
      "None\n",
      "Entity                  0\n",
      "Code                    0\n",
      "Year                    0\n",
      "Consumer_price_index    0\n",
      "dtype: int64\n",
      "        Entity Code  Year  Consumer_price_index\n",
      "0  Afghanistan  AFG  2004             63.523396\n",
      "1  Afghanistan  AFG  2005             71.582146\n",
      "2  Afghanistan  AFG  2006             76.438705\n",
      "3  Afghanistan  AFG  2007             83.074020\n",
      "4  Afghanistan  AFG  2008            105.021065\n"
     ]
    }
   ],
   "source": [
    "print(consumer_price.info())\n",
    "print(consumer_price.isnull().sum())\n",
    "print(consumer_price.head(5))"
   ]
  },
  {
   "cell_type": "code",
   "execution_count": 5,
   "metadata": {},
   "outputs": [],
   "source": [
    "# Drop the '935576-annotations' column\n",
    "govt_spending = govt_spending.drop(columns=['935576-annotations'])\n",
    "\n",
    "# Round it to the nearest whole number\n",
    "govt_spending[\"Government expenditure (% of GDP)\"] = (\n",
    "    pd.to_numeric(govt_spending[\"Government expenditure (% of GDP)\"], errors=\"coerce\").round(2)\n",
    ")"
   ]
  },
  {
   "cell_type": "code",
   "execution_count": 6,
   "metadata": {},
   "outputs": [
    {
     "name": "stdout",
     "output_type": "stream",
     "text": [
      "<class 'pandas.core.frame.DataFrame'>\n",
      "RangeIndex: 9092 entries, 0 to 9091\n",
      "Data columns (total 4 columns):\n",
      " #   Column                             Non-Null Count  Dtype  \n",
      "---  ------                             --------------  -----  \n",
      " 0   Entity                             9092 non-null   object \n",
      " 1   Code                               9092 non-null   object \n",
      " 2   Year                               9092 non-null   int64  \n",
      " 3   Government expenditure (% of GDP)  9092 non-null   float64\n",
      "dtypes: float64(1), int64(1), object(2)\n",
      "memory usage: 284.3+ KB\n",
      "None\n",
      "Entity                               0\n",
      "Code                                 0\n",
      "Year                                 0\n",
      "Government expenditure (% of GDP)    0\n",
      "dtype: int64\n",
      "    Entity Code  Year  Government expenditure (% of GDP)\n",
      "0  Albania  ALB  1997                              30.30\n",
      "1  Albania  ALB  1998                              36.75\n",
      "2  Albania  ALB  1999                              37.11\n",
      "3  Albania  ALB  2000                              33.84\n",
      "4  Albania  ALB  2001                              32.69\n"
     ]
    }
   ],
   "source": [
    "print(govt_spending.info())\n",
    "print(govt_spending.isnull().sum())\n",
    "print(govt_spending.head(5))"
   ]
  },
  {
   "cell_type": "code",
   "execution_count": 7,
   "metadata": {},
   "outputs": [],
   "source": [
    "# Fill missing World_regions based on Entity\n",
    "expense_gdp[\"World_regions\"] = (\n",
    "    expense_gdp.groupby(\"Entity\")[\"World_regions\"]\n",
    "    .transform(lambda x: x.ffill().bfill())\n",
    ")\n",
    "\n",
    "# If an entity has no World_regions at all, fill it with Entity name\n",
    "expense_gdp[\"World_regions\"] = expense_gdp[\"World_regions\"].fillna(expense_gdp[\"Entity\"])\n",
    "\n",
    "# Fill missing values using bfill within each entity, then replace remaining NaNs with 0\n",
    "expense_gdp[[\"Consumption_expenditure\", \"GDP\"]] = (\n",
    "    expense_gdp.groupby(\"Entity\")[[\"Consumption_expenditure\", \"GDP\"]]\n",
    "    .transform(lambda x: x.bfill())\n",
    "    .fillna(0)\n",
    ")\n",
    "\n",
    "expense_gdp[\"Code\"] = expense_gdp[\"Code\"].fillna(\"N/A\")\n",
    "\n",
    "# Round float values to ensure they are whole numbers before conversion\n",
    "expense_gdp[\"Consumption_expenditure\"] = expense_gdp[\"Consumption_expenditure\"].round(0).astype(\"Int64\")\n",
    "expense_gdp[\"GDP\"] = expense_gdp[\"GDP\"].round(0).astype(\"Int64\")\n",
    "\n",
    "# Sort the data by Entity and Year within each group\n",
    "expense_gdp = expense_gdp.sort_values(by=[\"Entity\", \"Year\"])\n",
    "\n",
    "# Reset the index if needed\n",
    "expense_gdp = expense_gdp.reset_index(drop=True)"
   ]
  },
  {
   "cell_type": "code",
   "execution_count": 8,
   "metadata": {},
   "outputs": [
    {
     "name": "stdout",
     "output_type": "stream",
     "text": [
      "<class 'pandas.core.frame.DataFrame'>\n",
      "RangeIndex: 12044 entries, 0 to 12043\n",
      "Data columns (total 6 columns):\n",
      " #   Column                   Non-Null Count  Dtype \n",
      "---  ------                   --------------  ----- \n",
      " 0   Entity                   12044 non-null  object\n",
      " 1   Code                     12044 non-null  object\n",
      " 2   Year                     12044 non-null  int64 \n",
      " 3   Consumption_expenditure  12044 non-null  Int64 \n",
      " 4   GDP                      12044 non-null  Int64 \n",
      " 5   World_regions            12044 non-null  object\n",
      "dtypes: Int64(2), int64(1), object(3)\n",
      "memory usage: 588.2+ KB\n",
      "None\n",
      "Entity                     0\n",
      "Code                       0\n",
      "Year                       0\n",
      "Consumption_expenditure    0\n",
      "GDP                        0\n",
      "World_regions              0\n",
      "dtype: int64\n",
      "        Entity Code  Year  Consumption_expenditure         GDP World_regions\n",
      "0  Afghanistan  AFG  2000                        0  6206547500          Asia\n",
      "1  Afghanistan  AFG  2001                        0  5621147600          Asia\n",
      "2  Afghanistan  AFG  2002                        0  7228796000          Asia\n",
      "3  Afghanistan  AFG  2003                        0  7867263500          Asia\n",
      "4  Afghanistan  AFG  2004                        0  7978515500          Asia\n"
     ]
    }
   ],
   "source": [
    "print(expense_gdp.info())\n",
    "print(expense_gdp.isnull().sum())\n",
    "print(expense_gdp.head(5))"
   ]
  },
  {
   "cell_type": "code",
   "execution_count": 9,
   "metadata": {},
   "outputs": [],
   "source": [
    "# Fill missing \"Code\" with \"N/A\"\n",
    "gdp[\"Code\"].fillna(\"N/A\", inplace=True)"
   ]
  },
  {
   "cell_type": "code",
   "execution_count": 10,
   "metadata": {},
   "outputs": [
    {
     "name": "stdout",
     "output_type": "stream",
     "text": [
      "<class 'pandas.core.frame.DataFrame'>\n",
      "RangeIndex: 11965 entries, 0 to 11964\n",
      "Data columns (total 4 columns):\n",
      " #   Column          Non-Null Count  Dtype  \n",
      "---  ------          --------------  -----  \n",
      " 0   Entity          11965 non-null  object \n",
      " 1   Code            11965 non-null  object \n",
      " 2   Year            11965 non-null  int64  \n",
      " 3   GDP_per_capita  11965 non-null  float64\n",
      "dtypes: float64(1), int64(1), object(2)\n",
      "memory usage: 374.0+ KB\n",
      "None\n",
      "Entity            0\n",
      "Code              0\n",
      "Year              0\n",
      "GDP_per_capita    0\n",
      "dtype: int64\n",
      "        Entity Code  Year  GDP_per_capita\n",
      "0  Afghanistan  AFG  2000       308.31827\n",
      "1  Afghanistan  AFG  2001       277.11804\n",
      "2  Afghanistan  AFG  2002       338.13998\n",
      "3  Afghanistan  AFG  2003       346.07162\n",
      "4  Afghanistan  AFG  2004       338.63727\n"
     ]
    }
   ],
   "source": [
    "print(gdp.info())\n",
    "print(gdp.isnull().sum())\n",
    "print(gdp.head(5))"
   ]
  },
  {
   "cell_type": "code",
   "execution_count": 11,
   "metadata": {},
   "outputs": [],
   "source": [
    "consumer_price.to_csv(\"cleaned/consumer_price.csv\", index=False)\n",
    "govt_spending.to_csv(\"cleaned/govt_spending.csv\", index=False)\n",
    "expense_gdp.to_csv(\"cleaned/expense-gdp.csv\", index=False)\n",
    "gdp.to_csv(\"cleaned/gdp.csv\", index=False)"
   ]
  }
 ],
 "metadata": {
  "kernelspec": {
   "display_name": "3.11.10",
   "language": "python",
   "name": "python3"
  },
  "language_info": {
   "codemirror_mode": {
    "name": "ipython",
    "version": 3
   },
   "file_extension": ".py",
   "mimetype": "text/x-python",
   "name": "python",
   "nbconvert_exporter": "python",
   "pygments_lexer": "ipython3",
   "version": "3.11.10"
  }
 },
 "nbformat": 4,
 "nbformat_minor": 2
}
